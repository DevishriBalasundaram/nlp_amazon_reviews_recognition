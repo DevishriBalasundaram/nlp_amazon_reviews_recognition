{
 "cells": [
  {
   "cell_type": "markdown",
   "metadata": {},
   "source": [
    "#### Getting json data from https://jmcauley.ucsd.edu/data/amazon/"
   ]
  },
  {
   "cell_type": "code",
   "execution_count": 1,
   "metadata": {},
   "outputs": [],
   "source": [
    "import gzip\n",
    "import json\n",
    "import pandas as pd\n",
    "import numpy as np\n",
    "import warnings\n",
    "warnings.filterwarnings('ignore')"
   ]
  },
  {
   "cell_type": "code",
   "execution_count": 2,
   "metadata": {},
   "outputs": [],
   "source": [
    "## download json data and reads the data into pandas dataframe\n",
    "def parse(path):\n",
    "  g = gzip.open(path, 'r')\n",
    "  for l in g:\n",
    "    yield eval(l)\n",
    "\n",
    "def getDF(path):\n",
    "  i = 0\n",
    "  df = {}\n",
    "  for d in parse(path):\n",
    "    df[i] = d\n",
    "    i += 1\n",
    "  return pd.DataFrame.from_dict(df, orient='index')\n",
    "\n",
    "baby_df = getDF('reviews_Baby_5.json.gz')\n",
    "# beauty_df = getDF('reviews_Beauty_5.json.gz')\n",
    "# accessories_df = getDF('reviews_Clothing_Shoes_and_Jewelry_5.json.gz')\n",
    "# grocery_food_df = getDF('reviews_Grocery_and_Gourmet_Food_5.json.gz')\n",
    "musical_df = getDF('reviews_Musical_Instruments_5.json.gz')\n",
    "office_prod_df = getDF('reviews_Office_Products_5.json.gz')\n",
    "toys_games_df = getDF('reviews_Toys_and_Games_5.json.gz')"
   ]
  },
  {
   "cell_type": "code",
   "execution_count": 3,
   "metadata": {},
   "outputs": [
    {
     "data": {
      "text/html": [
       "<div>\n",
       "<style scoped>\n",
       "    .dataframe tbody tr th:only-of-type {\n",
       "        vertical-align: middle;\n",
       "    }\n",
       "\n",
       "    .dataframe tbody tr th {\n",
       "        vertical-align: top;\n",
       "    }\n",
       "\n",
       "    .dataframe thead th {\n",
       "        text-align: right;\n",
       "    }\n",
       "</style>\n",
       "<table border=\"1\" class=\"dataframe\">\n",
       "  <thead>\n",
       "    <tr style=\"text-align: right;\">\n",
       "      <th></th>\n",
       "      <th>reviewerID</th>\n",
       "      <th>asin</th>\n",
       "      <th>reviewerName</th>\n",
       "      <th>helpful</th>\n",
       "      <th>reviewText</th>\n",
       "      <th>overall</th>\n",
       "      <th>summary</th>\n",
       "      <th>unixReviewTime</th>\n",
       "      <th>reviewTime</th>\n",
       "    </tr>\n",
       "  </thead>\n",
       "  <tbody>\n",
       "    <tr>\n",
       "      <th>0</th>\n",
       "      <td>A2IBPI20UZIR0U</td>\n",
       "      <td>1384719342</td>\n",
       "      <td>cassandra tu \"Yeah, well, that's just like, u...</td>\n",
       "      <td>[0, 0]</td>\n",
       "      <td>Not much to write about here, but it does exac...</td>\n",
       "      <td>5.0</td>\n",
       "      <td>good</td>\n",
       "      <td>1393545600</td>\n",
       "      <td>02 28, 2014</td>\n",
       "    </tr>\n",
       "    <tr>\n",
       "      <th>1</th>\n",
       "      <td>A14VAT5EAX3D9S</td>\n",
       "      <td>1384719342</td>\n",
       "      <td>Jake</td>\n",
       "      <td>[13, 14]</td>\n",
       "      <td>The product does exactly as it should and is q...</td>\n",
       "      <td>5.0</td>\n",
       "      <td>Jake</td>\n",
       "      <td>1363392000</td>\n",
       "      <td>03 16, 2013</td>\n",
       "    </tr>\n",
       "    <tr>\n",
       "      <th>2</th>\n",
       "      <td>A195EZSQDW3E21</td>\n",
       "      <td>1384719342</td>\n",
       "      <td>Rick Bennette \"Rick Bennette\"</td>\n",
       "      <td>[1, 1]</td>\n",
       "      <td>The primary job of this device is to block the...</td>\n",
       "      <td>5.0</td>\n",
       "      <td>It Does The Job Well</td>\n",
       "      <td>1377648000</td>\n",
       "      <td>08 28, 2013</td>\n",
       "    </tr>\n",
       "    <tr>\n",
       "      <th>3</th>\n",
       "      <td>A2C00NNG1ZQQG2</td>\n",
       "      <td>1384719342</td>\n",
       "      <td>RustyBill \"Sunday Rocker\"</td>\n",
       "      <td>[0, 0]</td>\n",
       "      <td>Nice windscreen protects my MXL mic and preven...</td>\n",
       "      <td>5.0</td>\n",
       "      <td>GOOD WINDSCREEN FOR THE MONEY</td>\n",
       "      <td>1392336000</td>\n",
       "      <td>02 14, 2014</td>\n",
       "    </tr>\n",
       "    <tr>\n",
       "      <th>4</th>\n",
       "      <td>A94QU4C90B1AX</td>\n",
       "      <td>1384719342</td>\n",
       "      <td>SEAN MASLANKA</td>\n",
       "      <td>[0, 0]</td>\n",
       "      <td>This pop filter is great. It looks and perform...</td>\n",
       "      <td>5.0</td>\n",
       "      <td>No more pops when I record my vocals.</td>\n",
       "      <td>1392940800</td>\n",
       "      <td>02 21, 2014</td>\n",
       "    </tr>\n",
       "  </tbody>\n",
       "</table>\n",
       "</div>"
      ],
      "text/plain": [
       "       reviewerID        asin  \\\n",
       "0  A2IBPI20UZIR0U  1384719342   \n",
       "1  A14VAT5EAX3D9S  1384719342   \n",
       "2  A195EZSQDW3E21  1384719342   \n",
       "3  A2C00NNG1ZQQG2  1384719342   \n",
       "4   A94QU4C90B1AX  1384719342   \n",
       "\n",
       "                                       reviewerName   helpful  \\\n",
       "0  cassandra tu \"Yeah, well, that's just like, u...    [0, 0]   \n",
       "1                                              Jake  [13, 14]   \n",
       "2                     Rick Bennette \"Rick Bennette\"    [1, 1]   \n",
       "3                         RustyBill \"Sunday Rocker\"    [0, 0]   \n",
       "4                                     SEAN MASLANKA    [0, 0]   \n",
       "\n",
       "                                          reviewText  overall  \\\n",
       "0  Not much to write about here, but it does exac...      5.0   \n",
       "1  The product does exactly as it should and is q...      5.0   \n",
       "2  The primary job of this device is to block the...      5.0   \n",
       "3  Nice windscreen protects my MXL mic and preven...      5.0   \n",
       "4  This pop filter is great. It looks and perform...      5.0   \n",
       "\n",
       "                                 summary  unixReviewTime   reviewTime  \n",
       "0                                   good      1393545600  02 28, 2014  \n",
       "1                                   Jake      1363392000  03 16, 2013  \n",
       "2                   It Does The Job Well      1377648000  08 28, 2013  \n",
       "3          GOOD WINDSCREEN FOR THE MONEY      1392336000  02 14, 2014  \n",
       "4  No more pops when I record my vocals.      1392940800  02 21, 2014  "
      ]
     },
     "execution_count": 3,
     "metadata": {},
     "output_type": "execute_result"
    }
   ],
   "source": [
    "musical_df.head()"
   ]
  },
  {
   "cell_type": "code",
   "execution_count": 4,
   "metadata": {},
   "outputs": [],
   "source": [
    "## Feature creation (category) for each df.\n",
    "baby_df = baby_df[['reviewText']]\n",
    "baby_df['Category'] = 'baby_products'\n",
    "\n",
    "# beauty_df = beauty_df[['reviewText']]\n",
    "# beauty_df['Category'] = 'beauty_products'\n",
    "\n",
    "# accessories_df = accessories_df[['reviewText']]\n",
    "# accessories_df['Category'] = 'accessories'\n",
    "\n",
    "# grocery_food_df = grocery_food_df[['reviewText']]\n",
    "# grocery_food_df['Category'] = 'grocery_food_products'\n",
    "\n",
    "musical_df = musical_df[['reviewText']]\n",
    "musical_df['Category'] = 'musical_instruments'\n",
    "\n",
    "office_prod_df = office_prod_df[['reviewText']]\n",
    "office_prod_df['Category'] = 'office_products'\n",
    "\n",
    "toys_games_df = toys_games_df[['reviewText']]\n",
    "toys_games_df['Category'] = 'toys_games_products'"
   ]
  },
  {
   "cell_type": "code",
   "execution_count": 5,
   "metadata": {},
   "outputs": [
    {
     "data": {
      "text/html": [
       "<div>\n",
       "<style scoped>\n",
       "    .dataframe tbody tr th:only-of-type {\n",
       "        vertical-align: middle;\n",
       "    }\n",
       "\n",
       "    .dataframe tbody tr th {\n",
       "        vertical-align: top;\n",
       "    }\n",
       "\n",
       "    .dataframe thead th {\n",
       "        text-align: right;\n",
       "    }\n",
       "</style>\n",
       "<table border=\"1\" class=\"dataframe\">\n",
       "  <thead>\n",
       "    <tr style=\"text-align: right;\">\n",
       "      <th></th>\n",
       "      <th>reviewText</th>\n",
       "      <th>Category</th>\n",
       "    </tr>\n",
       "  </thead>\n",
       "  <tbody>\n",
       "    <tr>\n",
       "      <th>0</th>\n",
       "      <td>Not much to write about here, but it does exac...</td>\n",
       "      <td>musical_instruments</td>\n",
       "    </tr>\n",
       "    <tr>\n",
       "      <th>1</th>\n",
       "      <td>The product does exactly as it should and is q...</td>\n",
       "      <td>musical_instruments</td>\n",
       "    </tr>\n",
       "  </tbody>\n",
       "</table>\n",
       "</div>"
      ],
      "text/plain": [
       "                                          reviewText             Category\n",
       "0  Not much to write about here, but it does exac...  musical_instruments\n",
       "1  The product does exactly as it should and is q...  musical_instruments"
      ]
     },
     "execution_count": 5,
     "metadata": {},
     "output_type": "execute_result"
    }
   ],
   "source": [
    "musical_df.head(2)"
   ]
  },
  {
   "cell_type": "code",
   "execution_count": 6,
   "metadata": {},
   "outputs": [
    {
     "data": {
      "text/html": [
       "<div>\n",
       "<style scoped>\n",
       "    .dataframe tbody tr th:only-of-type {\n",
       "        vertical-align: middle;\n",
       "    }\n",
       "\n",
       "    .dataframe tbody tr th {\n",
       "        vertical-align: top;\n",
       "    }\n",
       "\n",
       "    .dataframe thead th {\n",
       "        text-align: right;\n",
       "    }\n",
       "</style>\n",
       "<table border=\"1\" class=\"dataframe\">\n",
       "  <thead>\n",
       "    <tr style=\"text-align: right;\">\n",
       "      <th></th>\n",
       "      <th>reviewText</th>\n",
       "      <th>Category</th>\n",
       "    </tr>\n",
       "  </thead>\n",
       "  <tbody>\n",
       "    <tr>\n",
       "      <th>0</th>\n",
       "      <td>I bought my first HP12C in about 1984 or so, a...</td>\n",
       "      <td>office_products</td>\n",
       "    </tr>\n",
       "    <tr>\n",
       "      <th>1</th>\n",
       "      <td>WHY THIS BELATED REVIEW? I feel very obliged t...</td>\n",
       "      <td>office_products</td>\n",
       "    </tr>\n",
       "  </tbody>\n",
       "</table>\n",
       "</div>"
      ],
      "text/plain": [
       "                                          reviewText         Category\n",
       "0  I bought my first HP12C in about 1984 or so, a...  office_products\n",
       "1  WHY THIS BELATED REVIEW? I feel very obliged t...  office_products"
      ]
     },
     "execution_count": 6,
     "metadata": {},
     "output_type": "execute_result"
    }
   ],
   "source": [
    "office_prod_df.head(2)"
   ]
  },
  {
   "cell_type": "code",
   "execution_count": 7,
   "metadata": {},
   "outputs": [
    {
     "data": {
      "text/html": [
       "<div>\n",
       "<style scoped>\n",
       "    .dataframe tbody tr th:only-of-type {\n",
       "        vertical-align: middle;\n",
       "    }\n",
       "\n",
       "    .dataframe tbody tr th {\n",
       "        vertical-align: top;\n",
       "    }\n",
       "\n",
       "    .dataframe thead th {\n",
       "        text-align: right;\n",
       "    }\n",
       "</style>\n",
       "<table border=\"1\" class=\"dataframe\">\n",
       "  <thead>\n",
       "    <tr style=\"text-align: right;\">\n",
       "      <th></th>\n",
       "      <th>reviewText</th>\n",
       "      <th>Category</th>\n",
       "    </tr>\n",
       "  </thead>\n",
       "  <tbody>\n",
       "    <tr>\n",
       "      <th>0</th>\n",
       "      <td>Perfect for new parents. We were able to keep ...</td>\n",
       "      <td>baby_products</td>\n",
       "    </tr>\n",
       "    <tr>\n",
       "      <th>1</th>\n",
       "      <td>This book is such a life saver.  It has been s...</td>\n",
       "      <td>baby_products</td>\n",
       "    </tr>\n",
       "    <tr>\n",
       "      <th>2</th>\n",
       "      <td>Helps me know exactly how my babies day has go...</td>\n",
       "      <td>baby_products</td>\n",
       "    </tr>\n",
       "    <tr>\n",
       "      <th>3</th>\n",
       "      <td>I bought this a few times for my older son and...</td>\n",
       "      <td>baby_products</td>\n",
       "    </tr>\n",
       "    <tr>\n",
       "      <th>4</th>\n",
       "      <td>I wanted an alternative to printing out daily ...</td>\n",
       "      <td>baby_products</td>\n",
       "    </tr>\n",
       "    <tr>\n",
       "      <th>...</th>\n",
       "      <td>...</td>\n",
       "      <td>...</td>\n",
       "    </tr>\n",
       "    <tr>\n",
       "      <th>167592</th>\n",
       "      <td>This drone is very fun and super duarable. Its...</td>\n",
       "      <td>toys_games_products</td>\n",
       "    </tr>\n",
       "    <tr>\n",
       "      <th>167593</th>\n",
       "      <td>This is my brother's most prized toy. It's ext...</td>\n",
       "      <td>toys_games_products</td>\n",
       "    </tr>\n",
       "    <tr>\n",
       "      <th>167594</th>\n",
       "      <td>This Panther Drone toy is awesome. I definitel...</td>\n",
       "      <td>toys_games_products</td>\n",
       "    </tr>\n",
       "    <tr>\n",
       "      <th>167595</th>\n",
       "      <td>This is my first drone and it has proven to be...</td>\n",
       "      <td>toys_games_products</td>\n",
       "    </tr>\n",
       "    <tr>\n",
       "      <th>167596</th>\n",
       "      <td>This is a super fun toy to have around. In our...</td>\n",
       "      <td>toys_games_products</td>\n",
       "    </tr>\n",
       "  </tbody>\n",
       "</table>\n",
       "<p>391908 rows × 2 columns</p>\n",
       "</div>"
      ],
      "text/plain": [
       "                                               reviewText             Category\n",
       "0       Perfect for new parents. We were able to keep ...        baby_products\n",
       "1       This book is such a life saver.  It has been s...        baby_products\n",
       "2       Helps me know exactly how my babies day has go...        baby_products\n",
       "3       I bought this a few times for my older son and...        baby_products\n",
       "4       I wanted an alternative to printing out daily ...        baby_products\n",
       "...                                                   ...                  ...\n",
       "167592  This drone is very fun and super duarable. Its...  toys_games_products\n",
       "167593  This is my brother's most prized toy. It's ext...  toys_games_products\n",
       "167594  This Panther Drone toy is awesome. I definitel...  toys_games_products\n",
       "167595  This is my first drone and it has proven to be...  toys_games_products\n",
       "167596  This is a super fun toy to have around. In our...  toys_games_products\n",
       "\n",
       "[391908 rows x 2 columns]"
      ]
     },
     "execution_count": 7,
     "metadata": {},
     "output_type": "execute_result"
    }
   ],
   "source": [
    "df = pd.concat([baby_df,musical_df,office_prod_df,toys_games_df])\n",
    "df"
   ]
  },
  {
   "cell_type": "code",
   "execution_count": 8,
   "metadata": {},
   "outputs": [
    {
     "data": {
      "text/plain": [
       "toys_games_products    167597\n",
       "baby_products          160792\n",
       "office_products         53258\n",
       "musical_instruments     10261\n",
       "Name: Category, dtype: int64"
      ]
     },
     "execution_count": 8,
     "metadata": {},
     "output_type": "execute_result"
    }
   ],
   "source": [
    "df['Category'].value_counts()"
   ]
  },
  {
   "cell_type": "code",
   "execution_count": 9,
   "metadata": {
    "scrolled": true
   },
   "outputs": [
    {
     "data": {
      "text/plain": [
       "toys_games_products    5000\n",
       "office_products        5000\n",
       "baby_products          5000\n",
       "musical_instruments    5000\n",
       "Name: Category, dtype: int64"
      ]
     },
     "execution_count": 9,
     "metadata": {},
     "output_type": "execute_result"
    }
   ],
   "source": [
    "# Taking some sample data from each category. we can use groupby \n",
    "df = df.groupby('Category').tail(5000)\n",
    "df['Category'].value_counts()"
   ]
  },
  {
   "cell_type": "markdown",
   "metadata": {},
   "source": [
    "### Text Cleaning"
   ]
  },
  {
   "cell_type": "code",
   "execution_count": 10,
   "metadata": {},
   "outputs": [],
   "source": [
    "import re\n",
    "import string\n",
    "from nltk.tokenize import word_tokenize\n",
    "from nltk.corpus import stopwords\n",
    "stop_words=stopwords.words('english')"
   ]
  },
  {
   "cell_type": "code",
   "execution_count": 11,
   "metadata": {},
   "outputs": [],
   "source": [
    "def clean(text):\n",
    "    text=text.lower()\n",
    "    url_removed=re.sub(r'https\\S+','',text,flags=re.MULTILINE)\n",
    "    num_removed=re.sub(\"[^a-zA-Z]\",\" \",url_removed)\n",
    "    text=re.sub(\"\\.+\",\" \",num_removed)\n",
    "    word_tokens=word_tokenize(text)\n",
    "    text=[word for word in word_tokens if word  not in stop_words]\n",
    "    cleaned_text=[word for word in text if word not in string.punctuation]\n",
    "    return \" \".join(cleaned_text)"
   ]
  },
  {
   "cell_type": "code",
   "execution_count": 12,
   "metadata": {},
   "outputs": [],
   "source": [
    "## feature creation of cleaned text\n",
    "df['cleanedText'] = df['reviewText'].apply(lambda x: clean(x))\n",
    "## feature creation of labels for categories\n",
    "labels = {'baby_products':0,\n",
    "          'musical_instruments':1,\n",
    "          'office_products':2,\n",
    "          'toys_games_products':3\n",
    "         }\n",
    "df['labelCategory'] = df['Category'].map(labels)"
   ]
  },
  {
   "cell_type": "code",
   "execution_count": 13,
   "metadata": {},
   "outputs": [
    {
     "data": {
      "text/html": [
       "<div>\n",
       "<style scoped>\n",
       "    .dataframe tbody tr th:only-of-type {\n",
       "        vertical-align: middle;\n",
       "    }\n",
       "\n",
       "    .dataframe tbody tr th {\n",
       "        vertical-align: top;\n",
       "    }\n",
       "\n",
       "    .dataframe thead th {\n",
       "        text-align: right;\n",
       "    }\n",
       "</style>\n",
       "<table border=\"1\" class=\"dataframe\">\n",
       "  <thead>\n",
       "    <tr style=\"text-align: right;\">\n",
       "      <th></th>\n",
       "      <th>reviewText</th>\n",
       "      <th>Category</th>\n",
       "      <th>cleanedText</th>\n",
       "      <th>labelCategory</th>\n",
       "    </tr>\n",
       "  </thead>\n",
       "  <tbody>\n",
       "    <tr>\n",
       "      <th>155792</th>\n",
       "      <td>The refills are OK, because they are cheaper t...</td>\n",
       "      <td>baby_products</td>\n",
       "      <td>refills ok cheaper name brand refills however ...</td>\n",
       "      <td>0</td>\n",
       "    </tr>\n",
       "    <tr>\n",
       "      <th>155793</th>\n",
       "      <td>We've been using the diaper genie branded refi...</td>\n",
       "      <td>baby_products</td>\n",
       "      <td>using diaper genie branded refills long time e...</td>\n",
       "      <td>0</td>\n",
       "    </tr>\n",
       "    <tr>\n",
       "      <th>155794</th>\n",
       "      <td>This product has more bags than the Playtex ve...</td>\n",
       "      <td>baby_products</td>\n",
       "      <td>product bags playtex version put diapers diape...</td>\n",
       "      <td>0</td>\n",
       "    </tr>\n",
       "    <tr>\n",
       "      <th>155795</th>\n",
       "      <td>Perfectly fitting ourDiaper Genie Elite Diaper...</td>\n",
       "      <td>baby_products</td>\n",
       "      <td>perfectly fitting ourdiaper genie elite diaper...</td>\n",
       "      <td>0</td>\n",
       "    </tr>\n",
       "    <tr>\n",
       "      <th>155796</th>\n",
       "      <td>Great alternative to the diaper genie ones, sa...</td>\n",
       "      <td>baby_products</td>\n",
       "      <td>great alternative diaper genie ones fit less e...</td>\n",
       "      <td>0</td>\n",
       "    </tr>\n",
       "    <tr>\n",
       "      <th>...</th>\n",
       "      <td>...</td>\n",
       "      <td>...</td>\n",
       "      <td>...</td>\n",
       "      <td>...</td>\n",
       "    </tr>\n",
       "    <tr>\n",
       "      <th>167592</th>\n",
       "      <td>This drone is very fun and super duarable. Its...</td>\n",
       "      <td>toys_games_products</td>\n",
       "      <td>drone fun super duarable easy use kids love de...</td>\n",
       "      <td>3</td>\n",
       "    </tr>\n",
       "    <tr>\n",
       "      <th>167593</th>\n",
       "      <td>This is my brother's most prized toy. It's ext...</td>\n",
       "      <td>toys_games_products</td>\n",
       "      <td>brother prized toy extremely durable performs ...</td>\n",
       "      <td>3</td>\n",
       "    </tr>\n",
       "    <tr>\n",
       "      <th>167594</th>\n",
       "      <td>This Panther Drone toy is awesome. I definitel...</td>\n",
       "      <td>toys_games_products</td>\n",
       "      <td>panther drone toy awesome definitely recommend...</td>\n",
       "      <td>3</td>\n",
       "    </tr>\n",
       "    <tr>\n",
       "      <th>167595</th>\n",
       "      <td>This is my first drone and it has proven to be...</td>\n",
       "      <td>toys_games_products</td>\n",
       "      <td>first drone proven excellent choice since firs...</td>\n",
       "      <td>3</td>\n",
       "    </tr>\n",
       "    <tr>\n",
       "      <th>167596</th>\n",
       "      <td>This is a super fun toy to have around. In our...</td>\n",
       "      <td>toys_games_products</td>\n",
       "      <td>super fun toy around house provides great time...</td>\n",
       "      <td>3</td>\n",
       "    </tr>\n",
       "  </tbody>\n",
       "</table>\n",
       "<p>20000 rows × 4 columns</p>\n",
       "</div>"
      ],
      "text/plain": [
       "                                               reviewText  \\\n",
       "155792  The refills are OK, because they are cheaper t...   \n",
       "155793  We've been using the diaper genie branded refi...   \n",
       "155794  This product has more bags than the Playtex ve...   \n",
       "155795  Perfectly fitting ourDiaper Genie Elite Diaper...   \n",
       "155796  Great alternative to the diaper genie ones, sa...   \n",
       "...                                                   ...   \n",
       "167592  This drone is very fun and super duarable. Its...   \n",
       "167593  This is my brother's most prized toy. It's ext...   \n",
       "167594  This Panther Drone toy is awesome. I definitel...   \n",
       "167595  This is my first drone and it has proven to be...   \n",
       "167596  This is a super fun toy to have around. In our...   \n",
       "\n",
       "                   Category  \\\n",
       "155792        baby_products   \n",
       "155793        baby_products   \n",
       "155794        baby_products   \n",
       "155795        baby_products   \n",
       "155796        baby_products   \n",
       "...                     ...   \n",
       "167592  toys_games_products   \n",
       "167593  toys_games_products   \n",
       "167594  toys_games_products   \n",
       "167595  toys_games_products   \n",
       "167596  toys_games_products   \n",
       "\n",
       "                                              cleanedText  labelCategory  \n",
       "155792  refills ok cheaper name brand refills however ...              0  \n",
       "155793  using diaper genie branded refills long time e...              0  \n",
       "155794  product bags playtex version put diapers diape...              0  \n",
       "155795  perfectly fitting ourdiaper genie elite diaper...              0  \n",
       "155796  great alternative diaper genie ones fit less e...              0  \n",
       "...                                                   ...            ...  \n",
       "167592  drone fun super duarable easy use kids love de...              3  \n",
       "167593  brother prized toy extremely durable performs ...              3  \n",
       "167594  panther drone toy awesome definitely recommend...              3  \n",
       "167595  first drone proven excellent choice since firs...              3  \n",
       "167596  super fun toy around house provides great time...              3  \n",
       "\n",
       "[20000 rows x 4 columns]"
      ]
     },
     "execution_count": 13,
     "metadata": {},
     "output_type": "execute_result"
    }
   ],
   "source": [
    "df"
   ]
  },
  {
   "cell_type": "code",
   "execution_count": 14,
   "metadata": {},
   "outputs": [
    {
     "data": {
      "text/html": [
       "<div>\n",
       "<style scoped>\n",
       "    .dataframe tbody tr th:only-of-type {\n",
       "        vertical-align: middle;\n",
       "    }\n",
       "\n",
       "    .dataframe tbody tr th {\n",
       "        vertical-align: top;\n",
       "    }\n",
       "\n",
       "    .dataframe thead th {\n",
       "        text-align: right;\n",
       "    }\n",
       "</style>\n",
       "<table border=\"1\" class=\"dataframe\">\n",
       "  <thead>\n",
       "    <tr style=\"text-align: right;\">\n",
       "      <th></th>\n",
       "      <th>reviewText</th>\n",
       "      <th>Category</th>\n",
       "      <th>cleanedText</th>\n",
       "      <th>labelCategory</th>\n",
       "    </tr>\n",
       "  </thead>\n",
       "  <tbody>\n",
       "    <tr>\n",
       "      <th>163356</th>\n",
       "      <td>Perfect, like all of Melissa and Doug kid prod...</td>\n",
       "      <td>toys_games_products</td>\n",
       "      <td>perfect like melissa doug kid products cars lo...</td>\n",
       "      <td>3</td>\n",
       "    </tr>\n",
       "    <tr>\n",
       "      <th>51193</th>\n",
       "      <td>Don't really see the point of desk accoutremen...</td>\n",
       "      <td>office_products</td>\n",
       "      <td>really see point desk accoutrements like coupl...</td>\n",
       "      <td>2</td>\n",
       "    </tr>\n",
       "    <tr>\n",
       "      <th>50564</th>\n",
       "      <td>This is a good quality binder.  The Amazon des...</td>\n",
       "      <td>office_products</td>\n",
       "      <td>good quality binder amazon description accurat...</td>\n",
       "      <td>2</td>\n",
       "    </tr>\n",
       "    <tr>\n",
       "      <th>157082</th>\n",
       "      <td>Four infant feeding bottles (plastic, but the ...</td>\n",
       "      <td>baby_products</td>\n",
       "      <td>four infant feeding bottles plastic label says...</td>\n",
       "      <td>0</td>\n",
       "    </tr>\n",
       "    <tr>\n",
       "      <th>9756</th>\n",
       "      <td>I like the capo, only it seems a little stiff ...</td>\n",
       "      <td>musical_instruments</td>\n",
       "      <td>like capo seems little stiff opening put take ...</td>\n",
       "      <td>1</td>\n",
       "    </tr>\n",
       "    <tr>\n",
       "      <th>...</th>\n",
       "      <td>...</td>\n",
       "      <td>...</td>\n",
       "      <td>...</td>\n",
       "      <td>...</td>\n",
       "    </tr>\n",
       "    <tr>\n",
       "      <th>8149</th>\n",
       "      <td>this is the 2nd tuner like this that I have pu...</td>\n",
       "      <td>musical_instruments</td>\n",
       "      <td>nd tuner like purchased really dependable work...</td>\n",
       "      <td>1</td>\n",
       "    </tr>\n",
       "    <tr>\n",
       "      <th>49591</th>\n",
       "      <td>The pen has a very nice chrome satin finish.Th...</td>\n",
       "      <td>office_products</td>\n",
       "      <td>pen nice chrome satin finish python accent pri...</td>\n",
       "      <td>2</td>\n",
       "    </tr>\n",
       "    <tr>\n",
       "      <th>157852</th>\n",
       "      <td>I love these blankets! The colors are vibrant ...</td>\n",
       "      <td>baby_products</td>\n",
       "      <td>love blankets colors vibrant prints fun soft g...</td>\n",
       "      <td>0</td>\n",
       "    </tr>\n",
       "    <tr>\n",
       "      <th>158166</th>\n",
       "      <td>I must say, I think you'll find this has a gap...</td>\n",
       "      <td>baby_products</td>\n",
       "      <td>must say think find gap usage new parents chil...</td>\n",
       "      <td>0</td>\n",
       "    </tr>\n",
       "    <tr>\n",
       "      <th>160750</th>\n",
       "      <td>When I first purchased this product my baby di...</td>\n",
       "      <td>baby_products</td>\n",
       "      <td>first purchased product baby know make would u...</td>\n",
       "      <td>0</td>\n",
       "    </tr>\n",
       "  </tbody>\n",
       "</table>\n",
       "<p>20000 rows × 4 columns</p>\n",
       "</div>"
      ],
      "text/plain": [
       "                                               reviewText  \\\n",
       "163356  Perfect, like all of Melissa and Doug kid prod...   \n",
       "51193   Don't really see the point of desk accoutremen...   \n",
       "50564   This is a good quality binder.  The Amazon des...   \n",
       "157082  Four infant feeding bottles (plastic, but the ...   \n",
       "9756    I like the capo, only it seems a little stiff ...   \n",
       "...                                                   ...   \n",
       "8149    this is the 2nd tuner like this that I have pu...   \n",
       "49591   The pen has a very nice chrome satin finish.Th...   \n",
       "157852  I love these blankets! The colors are vibrant ...   \n",
       "158166  I must say, I think you'll find this has a gap...   \n",
       "160750  When I first purchased this product my baby di...   \n",
       "\n",
       "                   Category  \\\n",
       "163356  toys_games_products   \n",
       "51193       office_products   \n",
       "50564       office_products   \n",
       "157082        baby_products   \n",
       "9756    musical_instruments   \n",
       "...                     ...   \n",
       "8149    musical_instruments   \n",
       "49591       office_products   \n",
       "157852        baby_products   \n",
       "158166        baby_products   \n",
       "160750        baby_products   \n",
       "\n",
       "                                              cleanedText  labelCategory  \n",
       "163356  perfect like melissa doug kid products cars lo...              3  \n",
       "51193   really see point desk accoutrements like coupl...              2  \n",
       "50564   good quality binder amazon description accurat...              2  \n",
       "157082  four infant feeding bottles plastic label says...              0  \n",
       "9756    like capo seems little stiff opening put take ...              1  \n",
       "...                                                   ...            ...  \n",
       "8149    nd tuner like purchased really dependable work...              1  \n",
       "49591   pen nice chrome satin finish python accent pri...              2  \n",
       "157852  love blankets colors vibrant prints fun soft g...              0  \n",
       "158166  must say think find gap usage new parents chil...              0  \n",
       "160750  first purchased product baby know make would u...              0  \n",
       "\n",
       "[20000 rows x 4 columns]"
      ]
     },
     "execution_count": 14,
     "metadata": {},
     "output_type": "execute_result"
    }
   ],
   "source": [
    "# Before feeding datas into model we need to shuffle the DataFrame rows to learn model better\n",
    "shuffled_df = df.sample(frac = 1) \n",
    "shuffled_df"
   ]
  },
  {
   "cell_type": "markdown",
   "metadata": {},
   "source": [
    "### Train test split"
   ]
  },
  {
   "cell_type": "code",
   "execution_count": 15,
   "metadata": {},
   "outputs": [],
   "source": [
    "from sklearn.model_selection import train_test_split\n",
    "x_train,x_test,y_train,y_test = train_test_split(shuffled_df['cleanedText'],\n",
    "                                                 shuffled_df['labelCategory'],\n",
    "                                                 random_state = 10,\n",
    "                                                 test_size=0.2)"
   ]
  },
  {
   "cell_type": "code",
   "execution_count": 16,
   "metadata": {},
   "outputs": [
    {
     "name": "stdout",
     "output_type": "stream",
     "text": [
      "(16000,)\n",
      "(16000,)\n",
      "(4000,)\n",
      "(4000,)\n"
     ]
    }
   ],
   "source": [
    "print(x_train.shape)\n",
    "print(y_train.shape)\n",
    "print(x_test.shape)\n",
    "print(y_test.shape)"
   ]
  },
  {
   "cell_type": "markdown",
   "metadata": {},
   "source": [
    "### Preprocessing`"
   ]
  },
  {
   "cell_type": "code",
   "execution_count": 17,
   "metadata": {},
   "outputs": [],
   "source": [
    "from tensorflow.keras.preprocessing.text import Tokenizer\n",
    "from tensorflow.keras.preprocessing.sequence import pad_sequences"
   ]
  },
  {
   "cell_type": "code",
   "execution_count": 18,
   "metadata": {},
   "outputs": [
    {
     "data": {
      "text/plain": [
       "{'<OOV>': 1,\n",
       " 'one': 2,\n",
       " 'like': 3,\n",
       " 'use': 4,\n",
       " 'great': 5,\n",
       " 'would': 6,\n",
       " 'well': 7,\n",
       " 'good': 8,\n",
       " 'get': 9,\n",
       " 'really': 10,\n",
       " 'also': 11,\n",
       " 'little': 12,\n",
       " 'easy': 13,\n",
       " 'baby': 14,\n",
       " 'much': 15,\n",
       " 'time': 16,\n",
       " 'set': 17,\n",
       " 'printer': 18,\n",
       " 'nice': 19,\n",
       " 'even': 20}"
      ]
     },
     "execution_count": 18,
     "metadata": {},
     "output_type": "execute_result"
    }
   ],
   "source": [
    "## Tokenizer\n",
    "tokenizer=Tokenizer(oov_token=\"<OOV>\")\n",
    "tokenizer.fit_on_texts(x_train)\n",
    "word_index=tokenizer.word_index\n",
    "dict(list(word_index.items())[0:20])"
   ]
  },
  {
   "cell_type": "code",
   "execution_count": 19,
   "metadata": {},
   "outputs": [
    {
     "name": "stdout",
     "output_type": "stream",
     "text": [
      "[71, 29, 105, 595, 1465, 2511, 881, 73, 75, 231, 3098, 15, 1767, 408, 136, 7, 3400, 5566, 2436, 77, 5566, 887, 283, 646, 231, 3098, 186, 225, 73, 5567, 691, 2, 5566, 231, 1852, 570, 2610, 910, 1335, 323, 2698, 487, 400, 457, 2362, 104, 409, 273, 273, 1924, 1175, 9657, 105, 355, 164, 1428, 4699, 89, 4975, 561, 932, 174, 3294, 1428, 137, 4700, 587, 11, 127, 2086, 1492, 2436, 2412, 63, 7, 13741, 103, 164, 16, 136, 55, 3, 3783, 15, 63]\n",
      "85\n"
     ]
    }
   ],
   "source": [
    "train_sequences=tokenizer.texts_to_sequences(x_train)\n",
    "print(train_sequences[0])\n",
    "print(len(train_sequences[0]))"
   ]
  },
  {
   "cell_type": "code",
   "execution_count": 20,
   "metadata": {},
   "outputs": [
    {
     "name": "stdout",
     "output_type": "stream",
     "text": [
      "[447, 277, 809, 684, 562, 680, 87, 2, 1985, 8, 307, 441, 12, 2, 213, 29, 405]\n"
     ]
    }
   ],
   "source": [
    "test_sequences=tokenizer.texts_to_sequences(x_test)\n",
    "print(test_sequences[0])"
   ]
  },
  {
   "cell_type": "code",
   "execution_count": 21,
   "metadata": {},
   "outputs": [
    {
     "name": "stdout",
     "output_type": "stream",
     "text": [
      "10204\n",
      "14522\n"
     ]
    }
   ],
   "source": [
    "vocab=dict(list(word_index.items()))\n",
    "print(vocab['oily'])\n",
    "print(vocab['faithfully'])"
   ]
  },
  {
   "cell_type": "code",
   "execution_count": 22,
   "metadata": {},
   "outputs": [
    {
     "data": {
      "text/plain": [
       "(array([6854., 5734., 3072., 1670.,  919.,  513.,  374.,  243.,  192.,\n",
       "         102.]),\n",
       " array([  0.,  30.,  60.,  90., 120., 150., 180., 210., 240., 270., 300.]),\n",
       " <BarContainer object of 10 artists>)"
      ]
     },
     "execution_count": 22,
     "metadata": {},
     "output_type": "execute_result"
    },
    {
     "data": {
      "image/png": "[encoded data removed]",
      "text/plain": [
       "<Figure size 432x288 with 1 Axes>"
      ]
     },
     "metadata": {
      "needs_background": "light"
     },
     "output_type": "display_data"
    }
   ],
   "source": [
    "## Before doing padding we need to find the max_length (approx also we can give)\n",
    "shuffled_df[\"max_len\"]=shuffled_df[\"cleanedText\"].apply(lambda x:len(x.split()))\n",
    "\n",
    "import matplotlib.pyplot as plt\n",
    "# plt.hist(shuffled_df['max_len'])\n",
    "plt.hist(shuffled_df['max_len'],range=(0,300))"
   ]
  },
  {
   "cell_type": "code",
   "execution_count": 23,
   "metadata": {},
   "outputs": [],
   "source": [
    "## padding\n",
    "max_length=250\n",
    "trunc_type='post'\n",
    "padding_type='post'\n",
    "train_padded=pad_sequences(train_sequences,\n",
    "                           maxlen=max_length,\n",
    "                           padding=padding_type,\n",
    "                           truncating=trunc_type)"
   ]
  },
  {
   "cell_type": "code",
   "execution_count": 24,
   "metadata": {},
   "outputs": [
    {
     "name": "stdout",
     "output_type": "stream",
     "text": [
      "[   71    29   105   595  1465  2511   881    73    75   231  3098    15\n",
      "  1767   408   136     7  3400  5566  2436    77  5566   887   283   646\n",
      "   231  3098   186   225    73  5567   691     2  5566   231  1852   570\n",
      "  2610   910  1335   323  2698   487   400   457  2362   104   409   273\n",
      "   273  1924  1175  9657   105   355   164  1428  4699    89  4975   561\n",
      "   932   174  3294  1428   137  4700   587    11   127  2086  1492  2436\n",
      "  2412    63     7 13741   103   164    16   136    55     3  3783    15\n",
      "    63     0     0     0     0     0     0     0     0     0     0     0\n",
      "     0     0     0     0     0     0     0     0     0     0     0     0\n",
      "     0     0     0     0     0     0     0     0     0     0     0     0\n",
      "     0     0     0     0     0     0     0     0     0     0     0     0\n",
      "     0     0     0     0     0     0     0     0     0     0     0     0\n",
      "     0     0     0     0     0     0     0     0     0     0     0     0\n",
      "     0     0     0     0     0     0     0     0     0     0     0     0\n",
      "     0     0     0     0     0     0     0     0     0     0     0     0\n",
      "     0     0     0     0     0     0     0     0     0     0     0     0\n",
      "     0     0     0     0     0     0     0     0     0     0     0     0\n",
      "     0     0     0     0     0     0     0     0     0     0     0     0\n",
      "     0     0     0     0     0     0     0     0     0     0     0     0\n",
      "     0     0     0     0     0     0     0     0     0     0     0     0\n",
      "     0     0     0     0     0     0     0     0     0     0]\n"
     ]
    }
   ],
   "source": [
    "print(train_padded[0])"
   ]
  },
  {
   "cell_type": "code",
   "execution_count": 25,
   "metadata": {},
   "outputs": [],
   "source": [
    "test_padded=pad_sequences(test_sequences,\n",
    "                          maxlen=max_length,\n",
    "                          padding=padding_type,\n",
    "                          truncating=trunc_type)"
   ]
  },
  {
   "cell_type": "code",
   "execution_count": 26,
   "metadata": {},
   "outputs": [
    {
     "name": "stdout",
     "output_type": "stream",
     "text": [
      "[ 447  277  809  684  562  680   87    2 1985    8  307  441   12    2\n",
      "  213   29  405    0    0    0    0    0    0    0    0    0    0    0\n",
      "    0    0    0    0    0    0    0    0    0    0    0    0    0    0\n",
      "    0    0    0    0    0    0    0    0    0    0    0    0    0    0\n",
      "    0    0    0    0    0    0    0    0    0    0    0    0    0    0\n",
      "    0    0    0    0    0    0    0    0    0    0    0    0    0    0\n",
      "    0    0    0    0    0    0    0    0    0    0    0    0    0    0\n",
      "    0    0    0    0    0    0    0    0    0    0    0    0    0    0\n",
      "    0    0    0    0    0    0    0    0    0    0    0    0    0    0\n",
      "    0    0    0    0    0    0    0    0    0    0    0    0    0    0\n",
      "    0    0    0    0    0    0    0    0    0    0    0    0    0    0\n",
      "    0    0    0    0    0    0    0    0    0    0    0    0    0    0\n",
      "    0    0    0    0    0    0    0    0    0    0    0    0    0    0\n",
      "    0    0    0    0    0    0    0    0    0    0    0    0    0    0\n",
      "    0    0    0    0    0    0    0    0    0    0    0    0    0    0\n",
      "    0    0    0    0    0    0    0    0    0    0    0    0    0    0\n",
      "    0    0    0    0    0    0    0    0    0    0    0    0    0    0\n",
      "    0    0    0    0    0    0    0    0    0    0    0    0]\n"
     ]
    }
   ],
   "source": [
    "print(test_padded[0])"
   ]
  },
  {
   "cell_type": "markdown",
   "metadata": {},
   "source": [
    "### Model Building"
   ]
  },
  {
   "cell_type": "code",
   "execution_count": 27,
   "metadata": {},
   "outputs": [],
   "source": [
    "import tensorflow as tf\n",
    "from tensorflow.keras import Sequential"
   ]
  },
  {
   "cell_type": "code",
   "execution_count": 28,
   "metadata": {},
   "outputs": [
    {
     "name": "stdout",
     "output_type": "stream",
     "text": [
      "28939\n",
      "28940\n"
     ]
    }
   ],
   "source": [
    "print(len(word_index))\n",
    "vocab_size=len(word_index)+1\n",
    "print(vocab_size)\n",
    "embedding_dim=300 # each and every word will have 300 values"
   ]
  },
  {
   "cell_type": "code",
   "execution_count": 29,
   "metadata": {},
   "outputs": [],
   "source": [
    "lstm_model=tf.keras.Sequential([\n",
    "    tf.keras.layers.Embedding(vocab_size,embedding_dim), # creates word embedddings layer (input layer)\n",
    "    tf.keras.layers.LSTM(128), # units is nothing but number of hidden neurons in the lstm gates (forget,input,output)\n",
    "    tf.keras.layers.Dense(4,activation='softmax')\n",
    "])"
   ]
  },
  {
   "cell_type": "code",
   "execution_count": 30,
   "metadata": {},
   "outputs": [
    {
     "name": "stdout",
     "output_type": "stream",
     "text": [
      "Model: \"sequential\"\n",
      "_________________________________________________________________\n",
      "Layer (type)                 Output Shape              Param #   \n",
      "=================================================================\n",
      "embedding (Embedding)        (None, None, 300)         8682000   \n",
      "_________________________________________________________________\n",
      "lstm (LSTM)                  (None, 128)               219648    \n",
      "_________________________________________________________________\n",
      "dense (Dense)                (None, 4)                 516       \n",
      "=================================================================\n",
      "Total params: 8,902,164\n",
      "Trainable params: 8,902,164\n",
      "Non-trainable params: 0\n",
      "_________________________________________________________________\n"
     ]
    }
   ],
   "source": [
    "lstm_model.summary()"
   ]
  },
  {
   "cell_type": "code",
   "execution_count": 31,
   "metadata": {},
   "outputs": [],
   "source": [
    "opt=tf.keras.optimizers.Adam(0.01)\n",
    "lstm_model.compile(loss='sparse_categorical_crossentropy',optimizer=opt,metrics=['accuracy'])\n",
    "num_epochs=3"
   ]
  },
  {
   "cell_type": "code",
   "execution_count": 32,
   "metadata": {},
   "outputs": [
    {
     "name": "stdout",
     "output_type": "stream",
     "text": [
      "(16000, 250)\n",
      "(4000, 250)\n",
      "(16000,)\n",
      "(4000,)\n"
     ]
    }
   ],
   "source": [
    "print(train_padded.shape)\n",
    "print(test_padded.shape)\n",
    "print(y_train.shape)\n",
    "print(y_test.shape)"
   ]
  },
  {
   "cell_type": "code",
   "execution_count": 33,
   "metadata": {},
   "outputs": [
    {
     "name": "stdout",
     "output_type": "stream",
     "text": [
      "Train on 16000 samples, validate on 4000 samples\n",
      "Epoch 1/3\n",
      "16000/16000 - 1550s - loss: 1.3756 - accuracy: 0.3114 - val_loss: 1.2549 - val_accuracy: 0.3790\n",
      "Epoch 2/3\n",
      "16000/16000 - 1455s - loss: 0.9910 - accuracy: 0.5651 - val_loss: 0.7509 - val_accuracy: 0.7278\n",
      "Epoch 3/3\n",
      "16000/16000 - 1782s - loss: 0.5311 - accuracy: 0.8112 - val_loss: 0.5195 - val_accuracy: 0.8223\n"
     ]
    }
   ],
   "source": [
    "histoy=lstm_model.fit(train_padded,y_train,epochs=num_epochs,validation_data=(test_padded,y_test),verbose=2)"
   ]
  },
  {
   "cell_type": "code",
   "execution_count": 35,
   "metadata": {},
   "outputs": [
    {
     "data": {
      "image/png": "[encoded data removed]",
      "text/plain": [
       "<Figure size 864x360 with 2 Axes>"
      ]
     },
     "metadata": {
      "needs_background": "light"
     },
     "output_type": "display_data"
    }
   ],
   "source": [
    "plt.figure(figsize=(12, 5))\n",
    "plt.subplot(121)\n",
    "plt.plot(histoy.history['loss'])\n",
    "plt.plot(histoy.history['val_loss']);\n",
    "plt.xlabel(\"Epochs\")\n",
    "plt.ylabel(\"Loss\")\n",
    "plt.legend(['train loss', 'test loss']);\n",
    "ax = plt.subplot(122)\n",
    "plt.plot(histoy.history['accuracy'])\n",
    "plt.plot(histoy.history['val_accuracy'])\n",
    "plt.xlabel(\"Epochs\")\n",
    "plt.ylabel(\"Accuracy\")\n",
    "plt.legend(['train accuracy', 'test accuracy']);"
   ]
  },
  {
   "cell_type": "markdown",
   "metadata": {},
   "source": [
    "#### Testing with an example review"
   ]
  },
  {
   "cell_type": "code",
   "execution_count": 42,
   "metadata": {},
   "outputs": [
    {
     "name": "stdout",
     "output_type": "stream",
     "text": [
      "Prediction for the four classes: [[0.24535616 0.03893853 0.00538557 0.71031976]]\n",
      "The Category is: toys_games_products\n"
     ]
    }
   ],
   "source": [
    "txt={\"This is a bit too complicated for my 10 yr old daughter, but I bet next year it will be great.\"}\n",
    "seq=tokenizer.texts_to_sequences(txt)\n",
    "padded=pad_sequences(seq,maxlen=max_length,padding=padding_type,truncating=trunc_type)\n",
    "pred=lstm_model.predict(padded)\n",
    "cat_labels=list(labels.keys())\n",
    "print(\"Prediction for the four classes:\",pred)\n",
    "print(\"The Category is:\",cat_labels[np.argmax(pred)])# Gives the index value from the prediction"
   ]
  },
  {
   "cell_type": "markdown",
   "metadata": {},
   "source": [
    "## Model save"
   ]
  },
  {
   "cell_type": "code",
   "execution_count": 43,
   "metadata": {},
   "outputs": [],
   "source": [
    "lstm_model.save(\"final_lstm_model.h5\")"
   ]
  },
  {
   "cell_type": "code",
   "execution_count": 44,
   "metadata": {},
   "outputs": [
    {
     "name": "stdout",
     "output_type": "stream",
     "text": [
      "Model: \"sequential\"\n",
      "_________________________________________________________________\n",
      "Layer (type)                 Output Shape              Param #   \n",
      "=================================================================\n",
      "embedding (Embedding)        (None, None, 300)         8682000   \n",
      "_________________________________________________________________\n",
      "lstm (LSTM)                  (None, 128)               219648    \n",
      "_________________________________________________________________\n",
      "dense (Dense)                (None, 4)                 516       \n",
      "=================================================================\n",
      "Total params: 8,902,164\n",
      "Trainable params: 8,902,164\n",
      "Non-trainable params: 0\n",
      "_________________________________________________________________\n"
     ]
    }
   ],
   "source": [
    "## Want to load the saved model and check?\n",
    "new_model = tf.keras.models.load_model('final_lstm_model.h5')\n",
    "new_model.summary()"
   ]
  },
  {
   "cell_type": "code",
   "execution_count": 45,
   "metadata": {},
   "outputs": [
    {
     "name": "stdout",
     "output_type": "stream",
     "text": [
      "Prediction for the four classes: [[0.24535616 0.03893853 0.00538557 0.71031976]]\n",
      "The Category is: toys_games_products\n"
     ]
    }
   ],
   "source": [
    "## Testing the saved model with the same above example\n",
    "check_new_model_pred=new_model.predict(padded)\n",
    "cat_labels2=list(labels.keys())\n",
    "print(\"Prediction for the four classes:\",check_new_model_pred)\n",
    "print(\"The Category is:\",cat_labels2[np.argmax(check_new_model_pred)])"
   ]
  },
  {
   "cell_type": "code",
   "execution_count": null,
   "metadata": {},
   "outputs": [],
   "source": []
  }
 ],
 "metadata": {
  "kernelspec": {
   "display_name": "Python 3",
   "language": "python",
   "name": "python3"
  },
  "language_info": {
   "codemirror_mode": {
    "name": "ipython",
    "version": 3
   },
   "file_extension": ".py",
   "mimetype": "text/x-python",
   "name": "python",
   "nbconvert_exporter": "python",
   "pygments_lexer": "ipython3",
   "version": "3.7.9"
  }
 },
 "nbformat": 4,
 "nbformat_minor": 4
}
